{
 "cells": [
  {
   "cell_type": "code",
   "execution_count": 0,
   "metadata": {
    "application/vnd.databricks.v1+cell": {
     "cellMetadata": {
      "byteLimit": 2048000,
      "rowLimit": 10000
     },
     "inputWidgets": {},
     "nuid": "f5088b7c-3544-44ef-a134-c41c18e7a7e5",
     "showTitle": false,
     "title": ""
    }
   },
   "outputs": [],
   "source": [
    "data=[\n",
    "('salmankhan12Saleemkhan3',1),\n",
    "('RohitShetty3RohanMahajan5',2),\n",
    "('Sanjubaba4Doni07',3)\n",
    "\n",
    "]\n",
    "\n"
   ]
  },
  {
   "cell_type": "code",
   "execution_count": 0,
   "metadata": {
    "application/vnd.databricks.v1+cell": {
     "cellMetadata": {
      "byteLimit": 2048000,
      "rowLimit": 10000
     },
     "inputWidgets": {},
     "nuid": "24a7dc50-2d34-4798-bf3b-7d042d8de2f3",
     "showTitle": false,
     "title": ""
    }
   },
   "outputs": [],
   "source": [
    "df=spark.createDataFrame(data,schema=\"input string,id int\")\n",
    "df.show()\n",
    "+--------------------+---+\n",
    "|               input| id|\n",
    "+--------------------+---+\n",
    "|salmankhan12Salee...|  1|\n",
    "|RohitShetty3Rohan...|  2|\n",
    "|    Sanjubaba4Doni07|  3|\n",
    "+--------------------+---+\n",
    "\n",
    "df.show(truncate=False)\n",
    "\n",
    "+-------------------------+---+\n",
    "|input                    |id |\n",
    "+-------------------------+---+\n",
    "|salmankhan12Saleemkhan3  |1  |\n",
    "|RohitShetty3RohanMahajan5|2  |\n",
    "|Sanjubaba4Doni07         |3  |\n"
   ]
  },
  {
   "cell_type": "code",
   "execution_count": 0,
   "metadata": {
    "application/vnd.databricks.v1+cell": {
     "cellMetadata": {
      "byteLimit": 2048000,
      "rowLimit": 10000
     },
     "inputWidgets": {},
     "nuid": "d845972e-01c0-4ff3-850f-bc80cccbe949",
     "showTitle": true,
     "title": ""
    }
   },
   "outputs": [
    {
     "output_type": "display_data",
     "data": {
      "text/html": [
       "<style scoped>\n",
       "  .table-result-container {\n",
       "    max-height: 300px;\n",
       "    overflow: auto;\n",
       "  }\n",
       "  table, th, td {\n",
       "    border: 1px solid black;\n",
       "    border-collapse: collapse;\n",
       "  }\n",
       "  th, td {\n",
       "    padding: 5px;\n",
       "  }\n",
       "  th {\n",
       "    text-align: left;\n",
       "  }\n",
       "</style><div class='table-result-container'><table class='table-result'><thead style='background-color: white'><tr><th>input</th><th>id</th><th>newCol</th><th>new_col1</th></tr></thead><tbody><tr><td>salmankhan12Saleemkhan3</td><td>1</td><td>salmankhan12</td><td>Saleemkhan3</td></tr><tr><td>RohitShetty3RohanMahajan5</td><td>2</td><td>RohitShetty3</td><td>RohanMahajan5</td></tr><tr><td>Sanjubaba4Doni07</td><td>3</td><td>Sanjubaba4</td><td>Doni07</td></tr></tbody></table></div>"
      ]
     },
     "metadata": {
      "application/vnd.databricks.v1+output": {
       "addedWidgets": {},
       "aggData": [],
       "aggError": "",
       "aggOverflow": false,
       "aggSchema": [],
       "aggSeriesLimitReached": false,
       "aggType": "",
       "arguments": {},
       "columnCustomDisplayInfos": {},
       "data": [
        [
         "salmankhan12Saleemkhan3",
         1,
         "salmankhan12",
         "Saleemkhan3"
        ],
        [
         "RohitShetty3RohanMahajan5",
         2,
         "RohitShetty3",
         "RohanMahajan5"
        ],
        [
         "Sanjubaba4Doni07",
         3,
         "Sanjubaba4",
         "Doni07"
        ]
       ],
       "datasetInfos": [],
       "dbfsResultPath": null,
       "isJsonSchema": true,
       "metadata": {},
       "overflow": false,
       "plotOptions": {
        "customPlotOptions": {},
        "displayType": "table",
        "pivotAggregation": null,
        "pivotColumns": null,
        "xColumns": null,
        "yColumns": null
       },
       "removedWidgets": [],
       "schema": [
        {
         "metadata": "{}",
         "name": "input",
         "type": "\"string\""
        },
        {
         "metadata": "{}",
         "name": "id",
         "type": "\"integer\""
        },
        {
         "metadata": "{}",
         "name": "newCol",
         "type": "\"string\""
        },
        {
         "metadata": "{}",
         "name": "new_col1",
         "type": "\"string\""
        }
       ],
       "type": "table"
      }
     },
     "output_type": "display_data"
    }
   ],
   "source": [
    "#regexp_extract: This function is used for regular expression pattern matching and extraction.\n",
    "#parentheses are used to capture the matched pattern as a group.\n",
    "#1:indicates the index of the captured group. \n",
    "\n",
    "from pyspark.sql.functions import col,regexp_extract\n",
    "newDf=df.select(\"*\").withColumn(\"newCol\",regexp_extract(df.input,'([a-zA-Z]+[0-9]+)',1)).withColumn(\"new_col1\",regexp_extract(df.input,'([a-zA-Z]+[0-9]+)([a-zA-Z]+[0-9]+)',2 )).display()"
   ]
  },
  {
   "cell_type": "code",
   "execution_count": 0,
   "metadata": {
    "application/vnd.databricks.v1+cell": {
     "cellMetadata": {
      "byteLimit": 2048000,
      "rowLimit": 10000
     },
     "inputWidgets": {},
     "nuid": "63ed635a-d418-4809-9867-5ba185a8d02b",
     "showTitle": false,
     "title": ""
    }
   },
   "outputs": [
    {
     "output_type": "display_data",
     "data": {
      "text/html": [
       "<style scoped>\n",
       "  .table-result-container {\n",
       "    max-height: 300px;\n",
       "    overflow: auto;\n",
       "  }\n",
       "  table, th, td {\n",
       "    border: 1px solid black;\n",
       "    border-collapse: collapse;\n",
       "  }\n",
       "  th, td {\n",
       "    padding: 5px;\n",
       "  }\n",
       "  th {\n",
       "    text-align: left;\n",
       "  }\n",
       "</style><div class='table-result-container'><table class='table-result'><thead style='background-color: white'><tr><th>input</th><th>id</th><th>new_col</th><th>new_col1</th></tr></thead><tbody><tr><td>salmankhan12Saleemkhan3</td><td>1</td><td>salmankhan12</td><td>Saleemkhan3</td></tr><tr><td>RohitShetty3RohanMahajan5</td><td>2</td><td>RohitShetty3</td><td>RohanMahajan5</td></tr><tr><td>Sanjubaba4Doni07</td><td>3</td><td>Sanjubaba4</td><td>Doni07</td></tr></tbody></table></div>"
      ]
     },
     "metadata": {
      "application/vnd.databricks.v1+output": {
       "addedWidgets": {},
       "aggData": [],
       "aggError": "",
       "aggOverflow": false,
       "aggSchema": [],
       "aggSeriesLimitReached": false,
       "aggType": "",
       "arguments": {},
       "columnCustomDisplayInfos": {},
       "data": [
        [
         "salmankhan12Saleemkhan3",
         1,
         "salmankhan12",
         "Saleemkhan3"
        ],
        [
         "RohitShetty3RohanMahajan5",
         2,
         "RohitShetty3",
         "RohanMahajan5"
        ],
        [
         "Sanjubaba4Doni07",
         3,
         "Sanjubaba4",
         "Doni07"
        ]
       ],
       "datasetInfos": [],
       "dbfsResultPath": null,
       "isJsonSchema": true,
       "metadata": {},
       "overflow": false,
       "plotOptions": {
        "customPlotOptions": {},
        "displayType": "table",
        "pivotAggregation": null,
        "pivotColumns": null,
        "xColumns": null,
        "yColumns": null
       },
       "removedWidgets": [],
       "schema": [
        {
         "metadata": "{}",
         "name": "input",
         "type": "\"string\""
        },
        {
         "metadata": "{}",
         "name": "id",
         "type": "\"integer\""
        },
        {
         "metadata": "{}",
         "name": "new_col",
         "type": "\"string\""
        },
        {
         "metadata": "{}",
         "name": "new_col1",
         "type": "\"string\""
        }
       ],
       "type": "table"
      }
     },
     "output_type": "display_data"
    }
   ],
   "source": [
    "# Alternate way to handle the issue\n",
    "#(\\\\w+)represents one or more word characters \n",
    "from pyspark.sql.functions import col,regexp_extract\n",
    "newDf=df.select(\"*\").withColumn(\"new_col\",regexp_extract(df.input,'([a-zA-Z]+[0-9]+)',1 )).withColumn(\"new_col1\",regexp_extract(df.input,'([a-zA-Z]+[0-9]+)(\\\\w+)',2 )).display()"
   ]
  }
 ],
 "metadata": {
  "application/vnd.databricks.v1+notebook": {
   "dashboards": [],
   "language": "python",
   "notebookMetadata": {
    "pythonIndentUnit": 4
   },
   "notebookName": "Regexp_extract Method",
   "widgets": {}
  }
 },
 "nbformat": 4,
 "nbformat_minor": 0
}
