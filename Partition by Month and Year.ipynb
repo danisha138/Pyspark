{
 "cells": [
  {
   "cell_type": "code",
   "execution_count": 0,
   "metadata": {
    "application/vnd.databricks.v1+cell": {
     "cellMetadata": {
      "byteLimit": 2048000,
      "rowLimit": 10000
     },
     "inputWidgets": {},
     "nuid": "637f1563-49d8-4181-b768-13d382e2cbd0",
     "showTitle": false,
     "title": ""
    }
   },
   "outputs": [],
   "source": [
    "#Create dataframe\n",
    "df=spark.read.format(\"csv\").load(\"dbfs:/FileStore/tables/emp.csv\",inferSchema=True,header=True)"
   ]
  },
  {
   "cell_type": "code",
   "execution_count": 0,
   "metadata": {
    "application/vnd.databricks.v1+cell": {
     "cellMetadata": {
      "byteLimit": 2048000,
      "rowLimit": 10000
     },
     "inputWidgets": {},
     "nuid": "b57258d3-f809-4452-ac3c-ff5644744420",
     "showTitle": false,
     "title": ""
    }
   },
   "outputs": [
    {
     "output_type": "stream",
     "name": "stdout",
     "output_type": "stream",
     "text": [
      "+-----+-----+--------+----+----------+----+----+------+------------+----+-----+\n|EMPNO|ENAME|     JOB| MGR|  HIREDATE| SAL|COMM|DEPTNO|UPDATED_DATE|YEAR|MONTH|\n+-----+-----+--------+----+----------+----+----+------+------------+----+-----+\n| 7369|SMITH|   CLERK|7902|1980-12-17| 800|null|    20|  2022-01-01|1980|   12|\n| 7499|ALLEN|SALESMAN|7698|1981-02-20|1600| 300|    30|  2022-01-01|1981|   02|\n| 7521| WARD|SALESMAN|7698|1981-02-22|1250| 500|    30|  2022-01-01|1981|   02|\n+-----+-----+--------+----+----------+----+----+------+------------+----+-----+\nonly showing top 3 rows\n\n"
     ]
    }
   ],
   "source": [
    "df.show(3)"
   ]
  },
  {
   "cell_type": "code",
   "execution_count": 0,
   "metadata": {
    "application/vnd.databricks.v1+cell": {
     "cellMetadata": {
      "byteLimit": 2048000,
      "rowLimit": 10000
     },
     "inputWidgets": {},
     "nuid": "9e8e59b1-ed06-433f-a650-9ef12e833fa9",
     "showTitle": false,
     "title": ""
    }
   },
   "outputs": [
    {
     "output_type": "display_data",
     "data": {
      "text/html": [
       "<style scoped>\n",
       "  .table-result-container {\n",
       "    max-height: 300px;\n",
       "    overflow: auto;\n",
       "  }\n",
       "  table, th, td {\n",
       "    border: 1px solid black;\n",
       "    border-collapse: collapse;\n",
       "  }\n",
       "  th, td {\n",
       "    padding: 5px;\n",
       "  }\n",
       "  th {\n",
       "    text-align: left;\n",
       "  }\n",
       "</style><div class='table-result-container'><table class='table-result'><thead style='background-color: white'><tr><th>EMPNO</th><th>ENAME</th><th>JOB</th><th>MGR</th><th>HIREDATE</th><th>SAL</th><th>COMM</th><th>DEPTNO</th><th>UPDATED_DATE</th></tr></thead><tbody><tr><td>7369</td><td>SMITH</td><td>CLERK</td><td>7902</td><td>1980-12-17</td><td>800</td><td>null</td><td>20</td><td>2022-01-01</td></tr><tr><td>7499</td><td>ALLEN</td><td>SALESMAN</td><td>7698</td><td>1981-02-20</td><td>1600</td><td>300</td><td>30</td><td>2022-01-01</td></tr><tr><td>7521</td><td>WARD</td><td>SALESMAN</td><td>7698</td><td>1981-02-22</td><td>1250</td><td>500</td><td>30</td><td>2022-01-01</td></tr><tr><td>7566</td><td>JONES</td><td>MANAGER</td><td>7839</td><td>1981-02-04</td><td>2975</td><td>null</td><td>20</td><td>2022-01-05</td></tr><tr><td>7654</td><td>MARTIN</td><td>SALESMAN</td><td>7698</td><td>1981-09-21</td><td>1250</td><td>1400</td><td>30</td><td>2022-01-03</td></tr><tr><td>7698</td><td>SGR</td><td>MANAGER</td><td>7839</td><td>1981-01-05</td><td>2850</td><td>null</td><td>30</td><td>2022-01-04</td></tr><tr><td>7782</td><td>RAVI</td><td>MANAGER</td><td>7839</td><td>1981-09-06</td><td>2450</td><td>null</td><td>10</td><td>2022-01-02</td></tr><tr><td>7788</td><td>SCOTT</td><td>ANALYST</td><td>7566</td><td>1987-04-19</td><td>3000</td><td>null</td><td>20</td><td>2022-01-02</td></tr><tr><td>7839</td><td>KING</td><td>PRESIDENT</td><td>null</td><td>1981-11-01</td><td>5000</td><td>null</td><td>10</td><td>2022-01-02</td></tr><tr><td>7844</td><td>TURNER</td><td>SALESMAN</td><td>7698</td><td>1981-08-09</td><td>1500</td><td>0</td><td>30</td><td>2022-01-02</td></tr><tr><td>7876</td><td>ADAMS</td><td>CLERK</td><td>7788</td><td>1987-05-23</td><td>1100</td><td>null</td><td>20</td><td>2022-01-03</td></tr><tr><td>7900</td><td>JAMES</td><td>CLERK</td><td>7698</td><td>1981-03-12</td><td>950</td><td>null</td><td>30</td><td>2022-01-03</td></tr><tr><td>7902</td><td>FORD</td><td>ANALYST</td><td>7566</td><td>1981-03-12</td><td>3000</td><td>null</td><td>20</td><td>2022-01-03</td></tr><tr><td>7934</td><td>MILLER</td><td>CLERK</td><td>7782</td><td>1982-03-01</td><td>1300</td><td>null</td><td>10</td><td>2022-01-03</td></tr><tr><td>1234</td><td>SEKHAR</td><td>doctor</td><td>7777</td><td>2023-07-31</td><td>667</td><td>78</td><td>80</td><td>2022-01-03</td></tr><tr><td>7369</td><td>SMITH</td><td>CLERK</td><td>7902</td><td>1980-12-17</td><td>800</td><td>null</td><td>20</td><td>2022-01-04</td></tr><tr><td>7499</td><td>ALLEN</td><td>SALESMAN</td><td>7698</td><td>1981-02-20</td><td>1600</td><td>300</td><td>30</td><td>2022-01-04</td></tr><tr><td>7521</td><td>WARD</td><td>SALESMAN</td><td>7698</td><td>1981-02-22</td><td>1250</td><td>500</td><td>30</td><td>2022-01-04</td></tr><tr><td>7566</td><td>JONES</td><td>MANAGER</td><td>7839</td><td>1981-02-04</td><td>2975</td><td>null</td><td>20</td><td>2022-01-04</td></tr><tr><td>7654</td><td>MARTIN</td><td>SALESMAN</td><td>7698</td><td>1981-09-21</td><td>1250</td><td>1400</td><td>30</td><td>2022-01-05</td></tr><tr><td>7698</td><td>SGR</td><td>MANAGER</td><td>7839</td><td>1981-01-05</td><td>2850</td><td>null</td><td>30</td><td>2022-01-05</td></tr><tr><td>7782</td><td>RAVI</td><td>MANAGER</td><td>7839</td><td>1981-09-06</td><td>2450</td><td>null</td><td>10</td><td>2022-01-05</td></tr><tr><td>7788</td><td>SCOTT</td><td>ANALYST</td><td>7566</td><td>1987-04-19</td><td>3000</td><td>null</td><td>20</td><td>2022-01-06</td></tr><tr><td>7839</td><td>KING</td><td>PRESIDENT</td><td>null</td><td>1981-11-01</td><td>5000</td><td>null</td><td>10</td><td>2022-01-06</td></tr><tr><td>7844</td><td>TURNER</td><td>SALESMAN</td><td>7698</td><td>1981-08-09</td><td>1500</td><td>0</td><td>30</td><td>2022-01-06</td></tr><tr><td>7876</td><td>ADAMS</td><td>CLERK</td><td>7788</td><td>1987-05-23</td><td>1100</td><td>null</td><td>20</td><td>2022-01-06</td></tr><tr><td>7900</td><td>JAMES</td><td>CLERK</td><td>7698</td><td>1981-03-12</td><td>950</td><td>null</td><td>30</td><td>2022-01-07</td></tr><tr><td>7902</td><td>FORD</td><td>ANALYST</td><td>7566</td><td>1981-03-12</td><td>3000</td><td>null</td><td>20</td><td>2022-01-07</td></tr><tr><td>7934</td><td>MILLER</td><td>CLERK</td><td>7782</td><td>1982-03-01</td><td>1300</td><td>null</td><td>10</td><td>2022-01-07</td></tr><tr><td>1234</td><td>RAM</td><td>CLERK</td><td>7457</td><td>2023-07-31</td><td>494</td><td>588</td><td>80</td><td>2022-01-07</td></tr><tr><td>null</td><td>null</td><td>null</td><td>null</td><td>2023-07-31</td><td>null</td><td>null</td><td>null</td><td>null</td></tr><tr><td>null</td><td>null</td><td>null</td><td>null</td><td>2023-07-31</td><td>null</td><td>null</td><td>null</td><td>null</td></tr><tr><td>null</td><td>null</td><td>null</td><td>null</td><td>2023-07-31</td><td>null</td><td>null</td><td>null</td><td>null</td></tr></tbody></table></div>"
      ]
     },
     "metadata": {
      "application/vnd.databricks.v1+output": {
       "addedWidgets": {},
       "aggData": [],
       "aggError": "",
       "aggOverflow": false,
       "aggSchema": [],
       "aggSeriesLimitReached": false,
       "aggType": "",
       "arguments": {},
       "columnCustomDisplayInfos": {},
       "data": [
        [
         "7369",
         "SMITH",
         "CLERK",
         "7902",
         "1980-12-17",
         "800",
         "null",
         "20",
         "2022-01-01"
        ],
        [
         "7499",
         "ALLEN",
         "SALESMAN",
         "7698",
         "1981-02-20",
         "1600",
         "300",
         "30",
         "2022-01-01"
        ],
        [
         "7521",
         "WARD",
         "SALESMAN",
         "7698",
         "1981-02-22",
         "1250",
         "500",
         "30",
         "2022-01-01"
        ],
        [
         "7566",
         "JONES",
         "MANAGER",
         "7839",
         "1981-02-04",
         "2975",
         "null",
         "20",
         "2022-01-05"
        ],
        [
         "7654",
         "MARTIN",
         "SALESMAN",
         "7698",
         "1981-09-21",
         "1250",
         "1400",
         "30",
         "2022-01-03"
        ],
        [
         "7698",
         "SGR",
         "MANAGER",
         "7839",
         "1981-01-05",
         "2850",
         "null",
         "30",
         "2022-01-04"
        ],
        [
         "7782",
         "RAVI",
         "MANAGER",
         "7839",
         "1981-09-06",
         "2450",
         "null",
         "10",
         "2022-01-02"
        ],
        [
         "7788",
         "SCOTT",
         "ANALYST",
         "7566",
         "1987-04-19",
         "3000",
         "null",
         "20",
         "2022-01-02"
        ],
        [
         "7839",
         "KING",
         "PRESIDENT",
         "null",
         "1981-11-01",
         "5000",
         "null",
         "10",
         "2022-01-02"
        ],
        [
         "7844",
         "TURNER",
         "SALESMAN",
         "7698",
         "1981-08-09",
         "1500",
         "0",
         "30",
         "2022-01-02"
        ],
        [
         "7876",
         "ADAMS",
         "CLERK",
         "7788",
         "1987-05-23",
         "1100",
         "null",
         "20",
         "2022-01-03"
        ],
        [
         "7900",
         "JAMES",
         "CLERK",
         "7698",
         "1981-03-12",
         "950",
         "null",
         "30",
         "2022-01-03"
        ],
        [
         "7902",
         "FORD",
         "ANALYST",
         "7566",
         "1981-03-12",
         "3000",
         "null",
         "20",
         "2022-01-03"
        ],
        [
         "7934",
         "MILLER",
         "CLERK",
         "7782",
         "1982-03-01",
         "1300",
         "null",
         "10",
         "2022-01-03"
        ],
        [
         "1234",
         "SEKHAR",
         "doctor",
         "7777",
         "2023-07-31",
         "667",
         "78",
         "80",
         "2022-01-03"
        ],
        [
         "7369",
         "SMITH",
         "CLERK",
         "7902",
         "1980-12-17",
         "800",
         "null",
         "20",
         "2022-01-04"
        ],
        [
         "7499",
         "ALLEN",
         "SALESMAN",
         "7698",
         "1981-02-20",
         "1600",
         "300",
         "30",
         "2022-01-04"
        ],
        [
         "7521",
         "WARD",
         "SALESMAN",
         "7698",
         "1981-02-22",
         "1250",
         "500",
         "30",
         "2022-01-04"
        ],
        [
         "7566",
         "JONES",
         "MANAGER",
         "7839",
         "1981-02-04",
         "2975",
         "null",
         "20",
         "2022-01-04"
        ],
        [
         "7654",
         "MARTIN",
         "SALESMAN",
         "7698",
         "1981-09-21",
         "1250",
         "1400",
         "30",
         "2022-01-05"
        ],
        [
         "7698",
         "SGR",
         "MANAGER",
         "7839",
         "1981-01-05",
         "2850",
         "null",
         "30",
         "2022-01-05"
        ],
        [
         "7782",
         "RAVI",
         "MANAGER",
         "7839",
         "1981-09-06",
         "2450",
         "null",
         "10",
         "2022-01-05"
        ],
        [
         "7788",
         "SCOTT",
         "ANALYST",
         "7566",
         "1987-04-19",
         "3000",
         "null",
         "20",
         "2022-01-06"
        ],
        [
         "7839",
         "KING",
         "PRESIDENT",
         "null",
         "1981-11-01",
         "5000",
         "null",
         "10",
         "2022-01-06"
        ],
        [
         "7844",
         "TURNER",
         "SALESMAN",
         "7698",
         "1981-08-09",
         "1500",
         "0",
         "30",
         "2022-01-06"
        ],
        [
         "7876",
         "ADAMS",
         "CLERK",
         "7788",
         "1987-05-23",
         "1100",
         "null",
         "20",
         "2022-01-06"
        ],
        [
         "7900",
         "JAMES",
         "CLERK",
         "7698",
         "1981-03-12",
         "950",
         "null",
         "30",
         "2022-01-07"
        ],
        [
         "7902",
         "FORD",
         "ANALYST",
         "7566",
         "1981-03-12",
         "3000",
         "null",
         "20",
         "2022-01-07"
        ],
        [
         "7934",
         "MILLER",
         "CLERK",
         "7782",
         "1982-03-01",
         "1300",
         "null",
         "10",
         "2022-01-07"
        ],
        [
         "1234",
         "RAM",
         "CLERK",
         "7457",
         "2023-07-31",
         "494",
         "588",
         "80",
         "2022-01-07"
        ],
        [
         "null",
         "null",
         "null",
         "null",
         "2023-07-31",
         "null",
         "null",
         "null",
         "null"
        ],
        [
         "null",
         "null",
         "null",
         "null",
         "2023-07-31",
         "null",
         "null",
         "null",
         "null"
        ],
        [
         "null",
         "null",
         "null",
         "null",
         "2023-07-31",
         "null",
         "null",
         "null",
         "null"
        ]
       ],
       "datasetInfos": [],
       "dbfsResultPath": null,
       "isJsonSchema": true,
       "metadata": {},
       "overflow": false,
       "plotOptions": {
        "customPlotOptions": {},
        "displayType": "table",
        "pivotAggregation": null,
        "pivotColumns": null,
        "xColumns": null,
        "yColumns": null
       },
       "removedWidgets": [],
       "schema": [
        {
         "metadata": "{}",
         "name": "EMPNO",
         "type": "\"string\""
        },
        {
         "metadata": "{}",
         "name": "ENAME",
         "type": "\"string\""
        },
        {
         "metadata": "{}",
         "name": "JOB",
         "type": "\"string\""
        },
        {
         "metadata": "{}",
         "name": "MGR",
         "type": "\"string\""
        },
        {
         "metadata": "{}",
         "name": "HIREDATE",
         "type": "\"date\""
        },
        {
         "metadata": "{}",
         "name": "SAL",
         "type": "\"string\""
        },
        {
         "metadata": "{}",
         "name": "COMM",
         "type": "\"string\""
        },
        {
         "metadata": "{}",
         "name": "DEPTNO",
         "type": "\"string\""
        },
        {
         "metadata": "{}",
         "name": "UPDATED_DATE",
         "type": "\"string\""
        }
       ],
       "type": "table"
      }
     },
     "output_type": "display_data"
    },
    {
     "output_type": "stream",
     "name": "stdout",
     "output_type": "stream",
     "text": [
      "root\n |-- EMPNO: string (nullable = true)\n |-- ENAME: string (nullable = true)\n |-- JOB: string (nullable = true)\n |-- MGR: string (nullable = true)\n |-- HIREDATE: date (nullable = true)\n |-- SAL: string (nullable = true)\n |-- COMM: string (nullable = true)\n |-- DEPTNO: string (nullable = true)\n |-- UPDATED_DATE: string (nullable = true)\n\n"
     ]
    }
   ],
   "source": [
    "#to_date function - To convert to date\n",
    "#Spark date format: yyyy-MM-dd\n",
    "\n",
    "from pyspark.sql.functions import to_date\n",
    "\n",
    "df=df.withColumn(\"HIREDATE\",to_date(\"HIREDATE\",'dd-MM-yyyy')).fillna({\"HIREDATE\":'2023-07-31'})\n",
    "df.display()\n",
    "df.printSchema()"
   ]
  },
  {
   "cell_type": "code",
   "execution_count": 0,
   "metadata": {
    "application/vnd.databricks.v1+cell": {
     "cellMetadata": {
      "byteLimit": 2048000,
      "rowLimit": 10000
     },
     "inputWidgets": {},
     "nuid": "5f10b19d-bdaa-47d6-9404-3c62965ff5c1",
     "showTitle": false,
     "title": ""
    }
   },
   "outputs": [
    {
     "output_type": "stream",
     "name": "stdout",
     "output_type": "stream",
     "text": [
      "+-----+------+---------+----+----------+----+----+------+------------+----+-----+\n|EMPNO| ENAME|      JOB| MGR|  HIREDATE| SAL|COMM|DEPTNO|UPDATED_DATE|YEAR|MONTH|\n+-----+------+---------+----+----------+----+----+------+------------+----+-----+\n| 7369| SMITH|    CLERK|7902|1980-12-17| 800|null|    20|  2022-01-01|1980|   12|\n| 7499| ALLEN| SALESMAN|7698|1981-02-20|1600| 300|    30|  2022-01-01|1981|   02|\n| 7521|  WARD| SALESMAN|7698|1981-02-22|1250| 500|    30|  2022-01-01|1981|   02|\n| 7566| JONES|  MANAGER|7839|1981-02-04|2975|null|    20|  2022-01-05|1981|   02|\n| 7654|MARTIN| SALESMAN|7698|1981-09-21|1250|1400|    30|  2022-01-03|1981|   09|\n| 7698|   SGR|  MANAGER|7839|1981-01-05|2850|null|    30|  2022-01-04|1981|   01|\n| 7782|  RAVI|  MANAGER|7839|1981-09-06|2450|null|    10|  2022-01-02|1981|   09|\n| 7788| SCOTT|  ANALYST|7566|1987-04-19|3000|null|    20|  2022-01-02|1987|   04|\n| 7839|  KING|PRESIDENT|null|1981-11-01|5000|null|    10|  2022-01-02|1981|   11|\n| 7844|TURNER| SALESMAN|7698|1981-08-09|1500|   0|    30|  2022-01-02|1981|   08|\n| 7876| ADAMS|    CLERK|7788|1987-05-23|1100|null|    20|  2022-01-03|1987|   05|\n| 7900| JAMES|    CLERK|7698|1981-03-12| 950|null|    30|  2022-01-03|1981|   03|\n| 7902|  FORD|  ANALYST|7566|1981-03-12|3000|null|    20|  2022-01-03|1981|   03|\n| 7934|MILLER|    CLERK|7782|1982-03-01|1300|null|    10|  2022-01-03|1982|   03|\n| 1234|SEKHAR|   doctor|7777|2023-07-31| 667|  78|    80|  2022-01-03|2023|   07|\n| 7369| SMITH|    CLERK|7902|1980-12-17| 800|null|    20|  2022-01-04|1980|   12|\n| 7499| ALLEN| SALESMAN|7698|1981-02-20|1600| 300|    30|  2022-01-04|1981|   02|\n| 7521|  WARD| SALESMAN|7698|1981-02-22|1250| 500|    30|  2022-01-04|1981|   02|\n| 7566| JONES|  MANAGER|7839|1981-02-04|2975|null|    20|  2022-01-04|1981|   02|\n| 7654|MARTIN| SALESMAN|7698|1981-09-21|1250|1400|    30|  2022-01-05|1981|   09|\n+-----+------+---------+----+----------+----+----+------+------------+----+-----+\nonly showing top 20 rows\n\n"
     ]
    }
   ],
   "source": [
    "#Extract year and Month from date\n",
    "from pyspark.sql.functions import date_format\n",
    "df=df.withColumn(\"YEAR\",date_format(\"HIREDATE\",'yyyy')).withColumn(\"MONTH\",date_format(\"HIREDATE\",'MM'))\n",
    "df.show()"
   ]
  },
  {
   "cell_type": "code",
   "execution_count": 0,
   "metadata": {
    "application/vnd.databricks.v1+cell": {
     "cellMetadata": {
      "byteLimit": 2048000,
      "rowLimit": 10000
     },
     "inputWidgets": {},
     "nuid": "ab26b0ce-73b2-4eb6-9da7-e458d844de92",
     "showTitle": false,
     "title": ""
    }
   },
   "outputs": [],
   "source": [
    "#Create delta table from df using partition Column with emp_part\n",
    "#mode \"overwrite,\" which means that if the \"emp_part\" Delta Lake table already exists, \n",
    "#it will be overwritten with the new data. If the table does not exist, it will be created.\n",
    "df.write.format(\"delta\").partitionBy(\"YEAR\",\"MONTH\").mode(\"overwrite\").saveAsTable(\"emp_part\")"
   ]
  },
  {
   "cell_type": "code",
   "execution_count": 0,
   "metadata": {
    "application/vnd.databricks.v1+cell": {
     "cellMetadata": {
      "byteLimit": 2048000,
      "rowLimit": 10000
     },
     "inputWidgets": {},
     "nuid": "c21fdd5d-6087-4592-9bd3-55a40ad6252f",
     "showTitle": false,
     "title": ""
    }
   },
   "outputs": [
    {
     "output_type": "display_data",
     "data": {
      "text/html": [
       "<style scoped>\n",
       "  .table-result-container {\n",
       "    max-height: 300px;\n",
       "    overflow: auto;\n",
       "  }\n",
       "  table, th, td {\n",
       "    border: 1px solid black;\n",
       "    border-collapse: collapse;\n",
       "  }\n",
       "  th, td {\n",
       "    padding: 5px;\n",
       "  }\n",
       "  th {\n",
       "    text-align: left;\n",
       "  }\n",
       "</style><div class='table-result-container'><table class='table-result'><thead style='background-color: white'><tr><th>path</th><th>name</th><th>size</th><th>modificationTime</th></tr></thead><tbody><tr><td>dbfs:/user/hive/warehouse/emp_part/YEAR=1980/MONTH=12/part-00000-a2d0171b-1ccb-4410-bd1d-dafd07609b72.c000.snappy.parquet</td><td>part-00000-a2d0171b-1ccb-4410-bd1d-dafd07609b72.c000.snappy.parquet</td><td>2779</td><td>1690771815000</td></tr></tbody></table></div>"
      ]
     },
     "metadata": {
      "application/vnd.databricks.v1+output": {
       "addedWidgets": {},
       "aggData": [],
       "aggError": "",
       "aggOverflow": false,
       "aggSchema": [],
       "aggSeriesLimitReached": false,
       "aggType": "",
       "arguments": {},
       "columnCustomDisplayInfos": {},
       "data": [
        [
         "dbfs:/user/hive/warehouse/emp_part/YEAR=1980/MONTH=12/part-00000-a2d0171b-1ccb-4410-bd1d-dafd07609b72.c000.snappy.parquet",
         "part-00000-a2d0171b-1ccb-4410-bd1d-dafd07609b72.c000.snappy.parquet",
         2779,
         1690771815000
        ]
       ],
       "datasetInfos": [],
       "dbfsResultPath": null,
       "isJsonSchema": true,
       "metadata": {
        "isDbfsCommandResult": false
       },
       "overflow": false,
       "plotOptions": {
        "customPlotOptions": {},
        "displayType": "table",
        "pivotAggregation": null,
        "pivotColumns": null,
        "xColumns": null,
        "yColumns": null
       },
       "removedWidgets": [],
       "schema": [
        {
         "metadata": "{}",
         "name": "path",
         "type": "\"string\""
        },
        {
         "metadata": "{}",
         "name": "name",
         "type": "\"string\""
        },
        {
         "metadata": "{}",
         "name": "size",
         "type": "\"long\""
        },
        {
         "metadata": "{}",
         "name": "modificationTime",
         "type": "\"long\""
        }
       ],
       "type": "table"
      }
     },
     "output_type": "display_data"
    }
   ],
   "source": [
    "%fs ls /user/hive/warehouse/emp_part/YEAR=1980/MONTH=12/"
   ]
  },
  {
   "cell_type": "code",
   "execution_count": 0,
   "metadata": {
    "application/vnd.databricks.v1+cell": {
     "cellMetadata": {
      "byteLimit": 2048000,
      "implicitDf": true,
      "rowLimit": 10000
     },
     "inputWidgets": {},
     "nuid": "107e404e-d32f-4dc0-83b9-98320f1b78b2",
     "showTitle": false,
     "title": ""
    }
   },
   "outputs": [
    {
     "output_type": "display_data",
     "data": {
      "text/html": [
       "<style scoped>\n",
       "  .table-result-container {\n",
       "    max-height: 300px;\n",
       "    overflow: auto;\n",
       "  }\n",
       "  table, th, td {\n",
       "    border: 1px solid black;\n",
       "    border-collapse: collapse;\n",
       "  }\n",
       "  th, td {\n",
       "    padding: 5px;\n",
       "  }\n",
       "  th {\n",
       "    text-align: left;\n",
       "  }\n",
       "</style><div class='table-result-container'><table class='table-result'><thead style='background-color: white'><tr><th>plan</th></tr></thead><tbody><tr><td>== Physical Plan ==\n",
       "*(1) ColumnarToRow\n",
       "+- FileScan parquet spark_catalog.default.emp_part[EMPNO#3506,ENAME#3507,JOB#3508,MGR#3509,HIREDATE#3510,SAL#3511,COMM#3512,DEPTNO#3513,UPDATED_DATE#3514,YEAR#3515,MONTH#3516] Batched: true, DataFilters: [], Format: Parquet, Location: PreparedDeltaFileIndex(1 paths)[dbfs:/user/hive/warehouse/emp_part], PartitionFilters: [isnotnull(YEAR#3515), (cast(YEAR#3515 as int) = 1980)], PushedFilters: [], ReadSchema: struct<EMPNO:string,ENAME:string,JOB:string,MGR:string,HIREDATE:date,SAL:string,COMM:string,DEPTN...\n",
       "\n",
       "</td></tr></tbody></table></div>"
      ]
     },
     "metadata": {
      "application/vnd.databricks.v1+output": {
       "addedWidgets": {},
       "aggData": [],
       "aggError": "",
       "aggOverflow": false,
       "aggSchema": [],
       "aggSeriesLimitReached": false,
       "aggType": "",
       "arguments": {},
       "columnCustomDisplayInfos": {},
       "data": [
        [
         "== Physical Plan ==\n*(1) ColumnarToRow\n+- FileScan parquet spark_catalog.default.emp_part[EMPNO#3506,ENAME#3507,JOB#3508,MGR#3509,HIREDATE#3510,SAL#3511,COMM#3512,DEPTNO#3513,UPDATED_DATE#3514,YEAR#3515,MONTH#3516] Batched: true, DataFilters: [], Format: Parquet, Location: PreparedDeltaFileIndex(1 paths)[dbfs:/user/hive/warehouse/emp_part], PartitionFilters: [isnotnull(YEAR#3515), (cast(YEAR#3515 as int) = 1980)], PushedFilters: [], ReadSchema: struct<EMPNO:string,ENAME:string,JOB:string,MGR:string,HIREDATE:date,SAL:string,COMM:string,DEPTN...\n\n"
        ]
       ],
       "datasetInfos": [],
       "dbfsResultPath": null,
       "isJsonSchema": true,
       "metadata": {},
       "overflow": false,
       "plotOptions": {
        "customPlotOptions": {},
        "displayType": "table",
        "pivotAggregation": null,
        "pivotColumns": null,
        "xColumns": null,
        "yColumns": null
       },
       "removedWidgets": [],
       "schema": [
        {
         "metadata": "{}",
         "name": "plan",
         "type": "\"string\""
        }
       ],
       "type": "table"
      }
     },
     "output_type": "display_data"
    }
   ],
   "source": [
    "%sql\n",
    "\n",
    "explain select * from emp_part where year=1980\n",
    "\n",
    "--If you used year=1980 then spark will cast year into integer so make sure we are passing value in right way.\n",
    "--Instead used year='1980'\n"
   ]
  }
 ],
 "metadata": {
  "application/vnd.databricks.v1+notebook": {
   "dashboards": [],
   "language": "python",
   "notebookMetadata": {
    "mostRecentlyExecutedCommandWithImplicitDF": {
     "commandId": 4278564745582896,
     "dataframes": [
      "_sqldf"
     ]
    },
    "pythonIndentUnit": 4
   },
   "notebookName": "Partition by Monyh and Year",
   "widgets": {}
  }
 },
 "nbformat": 4,
 "nbformat_minor": 0
}
